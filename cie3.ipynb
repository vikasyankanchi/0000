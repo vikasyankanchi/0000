{
  "nbformat": 4,
  "nbformat_minor": 0,
  "metadata": {
    "colab": {
      "private_outputs": true,
      "provenance": [],
      "authorship_tag": "ABX9TyNI85xcCcNsVt2m1WZ1gMdg",
      "include_colab_link": true
    },
    "kernelspec": {
      "name": "python3",
      "display_name": "Python 3"
    },
    "language_info": {
      "name": "python"
    }
  },
  "cells": [
    {
      "cell_type": "markdown",
      "metadata": {
        "id": "view-in-github",
        "colab_type": "text"
      },
      "source": [
        "<a href=\"https://colab.research.google.com/github/vikasyankanchi/0000/blob/main/cie3.ipynb\" target=\"_parent\"><img src=\"https://colab.research.google.com/assets/colab-badge.svg\" alt=\"Open In Colab\"/></a>"
      ]
    },
    {
      "cell_type": "code",
      "execution_count": null,
      "metadata": {
        "id": "Qo71K6HYQezf"
      },
      "outputs": [],
      "source": [
        "import pandas as pd"
      ]
    },
    {
      "cell_type": "code",
      "source": [
        "df=pd.read_csv('/content/iris.csv')\n",
        "df.head()"
      ],
      "metadata": {
        "id": "24Rq7hJqRV-3"
      },
      "execution_count": null,
      "outputs": []
    },
    {
      "cell_type": "code",
      "source": [
        "x=df[['sepal_length','sepal_width','petal_length','petal_width']]\n",
        "y=df[['species']]"
      ],
      "metadata": {
        "id": "GD7ECwF6Riff"
      },
      "execution_count": null,
      "outputs": []
    },
    {
      "cell_type": "code",
      "source": [
        "from sklearn.model_selection import train_test_split\n",
        "x_train,x_test,y_train,y_test=train_test_split(x,y,test_size=0.2,random_state=40)\n"
      ],
      "metadata": {
        "id": "r8In1M9aRmk_"
      },
      "execution_count": null,
      "outputs": []
    },
    {
      "cell_type": "code",
      "source": [
        "x_train"
      ],
      "metadata": {
        "id": "lvGCxmw6Rste"
      },
      "execution_count": null,
      "outputs": []
    },
    {
      "cell_type": "code",
      "source": [
        "x_test"
      ],
      "metadata": {
        "id": "Hd7mN0haRxTn"
      },
      "execution_count": null,
      "outputs": []
    },
    {
      "cell_type": "code",
      "source": [
        "y_test"
      ],
      "metadata": {
        "id": "xp_uD7wiR03P"
      },
      "execution_count": null,
      "outputs": []
    },
    {
      "cell_type": "code",
      "source": [
        "y_train"
      ],
      "metadata": {
        "id": "BZuXwhw2R33m"
      },
      "execution_count": null,
      "outputs": []
    },
    {
      "cell_type": "code",
      "source": [
        "from sklearn.tree import DecisionTreeClassifier\n",
        "dtc=DecisionTreeClassifier()\n",
        "dtc.fit(x_train,y_train)"
      ],
      "metadata": {
        "id": "8dlr0Sw9R7LW"
      },
      "execution_count": null,
      "outputs": []
    },
    {
      "cell_type": "code",
      "source": [
        "y_pred=dtc.predict(x_test)\n",
        "y_pred"
      ],
      "metadata": {
        "id": "ZrLVDHBnSZxn"
      },
      "execution_count": null,
      "outputs": []
    },
    {
      "cell_type": "code",
      "source": [
        "from sklearn.metrics import accuracy_score,classification_report,confusion_matrix\n"
      ],
      "metadata": {
        "id": "ou2skAQpSd3O"
      },
      "execution_count": null,
      "outputs": []
    },
    {
      "cell_type": "code",
      "source": [
        "acc=accuracy_score(y_test,y_pred)\n",
        "print('accuracy:',acc)\n",
        "cm=confusion_matrix(y_test,y_pred)\n",
        "print('confussion_matrix: \\n',cm)\n",
        "cr=classification_report(y_test,y_pred)\n",
        "print('classification_report:',cr)"
      ],
      "metadata": {
        "id": "FotSoJZOSiKm"
      },
      "execution_count": null,
      "outputs": []
    },
    {
      "cell_type": "code",
      "source": [],
      "metadata": {
        "id": "hivaHlYJSqsH"
      },
      "execution_count": null,
      "outputs": []
    }
  ]
}