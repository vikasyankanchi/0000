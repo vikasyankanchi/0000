{
  "nbformat": 4,
  "nbformat_minor": 0,
  "metadata": {
    "colab": {
      "private_outputs": true,
      "provenance": [],
      "authorship_tag": "ABX9TyOVDzAmNxzBr2Bx38DmCvh3"
    },
    "kernelspec": {
      "name": "python3",
      "display_name": "Python 3"
    },
    "language_info": {
      "name": "python"
    }
  },
  "cells": [
    {
      "cell_type": "code",
      "source": [
        "import pandas as pd\n",
        "import numpy as np\n",
        "import matplotlib.pyplot as plt\n",
        "import seaborn as sns\n",
        "df = sns.load_dataset('titanic')\n",
        "\n",
        "df.info()"
      ],
      "metadata": {
        "id": "UQMBidGb-ls3"
      },
      "execution_count": null,
      "outputs": []
    },
    {
      "cell_type": "code",
      "source": [
        "print(df.isnull().sum())"
      ],
      "metadata": {
        "id": "qX67wALG-3rv"
      },
      "execution_count": null,
      "outputs": []
    },
    {
      "cell_type": "code",
      "source": [
        "sum1=(df[\"survived\"].isnull().sum())\n",
        "sum2=(df[\"age\"].isnull().sum())\n",
        "print(sum1+sum2)"
      ],
      "metadata": {
        "id": "4HXNuFAu_G1H"
      },
      "execution_count": null,
      "outputs": []
    },
    {
      "cell_type": "code",
      "source": [
        "print(df[\"survived\"].isnull().sum())\n",
        "print(df[\"age\"].isnull().sum())\n"
      ],
      "metadata": {
        "id": "S6jrQlfCBHXB"
      },
      "execution_count": null,
      "outputs": []
    },
    {
      "cell_type": "code",
      "source": [
        "sns.countplot(x=\"class\",hue=\"pclass\",data=df)\n",
        "plt.title(\"passenger count by pclass\")\n",
        "plt.show()"
      ],
      "metadata": {
        "id": "b3eejRVlEWaI"
      },
      "execution_count": null,
      "outputs": []
    }
  ]
}