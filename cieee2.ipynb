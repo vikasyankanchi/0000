{
  "nbformat": 4,
  "nbformat_minor": 0,
  "metadata": {
    "colab": {
      "private_outputs": true,
      "provenance": [],
      "authorship_tag": "ABX9TyN3Iigb9vhN2TdYMBvNW6vC",
      "include_colab_link": true
    },
    "kernelspec": {
      "name": "python3",
      "display_name": "Python 3"
    },
    "language_info": {
      "name": "python"
    }
  },
  "cells": [
    {
      "cell_type": "markdown",
      "metadata": {
        "id": "view-in-github",
        "colab_type": "text"
      },
      "source": [
        "<a href=\"https://colab.research.google.com/github/vikasyankanchi/0000/blob/main/cieee2.ipynb\" target=\"_parent\"><img src=\"https://colab.research.google.com/assets/colab-badge.svg\" alt=\"Open In Colab\"/></a>"
      ]
    },
    {
      "cell_type": "code",
      "execution_count": null,
      "metadata": {
        "id": "ZwYJL31ljPUO"
      },
      "outputs": [],
      "source": [
        "import pandas as pd\n",
        "import numpy as np\n",
        "import matplotlib.pyplot as plt\n",
        "import seaborn as sns\n",
        "df =sns.load_dataset('titanic')\n",
        "print(df.info)\n",
        "print(\"age\",df[\"age\"].describe())\n",
        "print(\"fare\",df[\"fare\"].describe())\n",
        "print(df.head(10))\n"
      ]
    },
    {
      "cell_type": "code",
      "source": [
        "df.info()\n"
      ],
      "metadata": {
        "id": "vT6fLL4NGDkY"
      },
      "execution_count": null,
      "outputs": []
    },
    {
      "cell_type": "code",
      "source": [
        "print(df[\"age\"].describe())"
      ],
      "metadata": {
        "id": "YndWJZeuE8lA"
      },
      "execution_count": null,
      "outputs": []
    },
    {
      "cell_type": "code",
      "source": [
        "df.info"
      ],
      "metadata": {
        "id": "BIbk5jxO4kee"
      },
      "execution_count": null,
      "outputs": []
    },
    {
      "cell_type": "code",
      "source": [
        "print(df.head(10))\n"
      ],
      "metadata": {
        "id": "4vxyA0mrHt-U"
      },
      "execution_count": null,
      "outputs": []
    },
    {
      "cell_type": "code",
      "source": [
        "print(df.head(10))\n",
        "df[\"survived\"]=df[\"survived\"].replace({0:\"not survived\",1:\"survived\"})\n",
        "print(df.head(10))\n"
      ],
      "metadata": {
        "id": "U4dHNY8tk7gy"
      },
      "execution_count": null,
      "outputs": []
    },
    {
      "cell_type": "code",
      "source": [
        "sns.countplot(x=\"pclass\",hue=\"survived\",data=df)\n",
        "plt.title(\" survival count by passanger class \")\n",
        "plt.show()"
      ],
      "metadata": {
        "id": "xqunh7sYmI-W"
      },
      "execution_count": null,
      "outputs": []
    },
    {
      "cell_type": "code",
      "source": [
        "print(df.isnull().sum())"
      ],
      "metadata": {
        "id": "3o4TKUpK9dNK"
      },
      "execution_count": null,
      "outputs": []
    },
    {
      "cell_type": "code",
      "source": [
        "\n",
        "df[\"age\"]=df[\"age\"].fillna(df[\"age\"].mean())\n",
        "\n",
        "print(df.isnull().sum())\n"
      ],
      "metadata": {
        "id": "S5kU1tkwnFJH"
      },
      "execution_count": null,
      "outputs": []
    },
    {
      "cell_type": "code",
      "source": [
        "\n",
        "from scipy.stats import zscore\n",
        "df['age'] = zscore (df['age'].fillna(df['age'].mean()))\n",
        "df['fare'] = zscore(df [ 'fare'].fillna(df['fare'].mean()))\n",
        "outliers = df [(abs(df['age']) > 3) | (abs(df['fare']) > 3)]\n",
        "print(\"Detected Outliers:\\n\", outliers [['age', 'fare']])\n",
        "sns.boxplot(x=df['age'])\n",
        "plt.title(\"age Outliers\")\n",
        "plt.show()\n",
        "sns.boxplot(x=df['fare'])\n",
        "plt.title(\"fare Outliers\")\n",
        "plt.show()"
      ],
      "metadata": {
        "id": "iIgo0TkZ-ErH"
      },
      "execution_count": null,
      "outputs": []
    }
  ]
}