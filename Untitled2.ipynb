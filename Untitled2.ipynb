{
  "nbformat": 4,
  "nbformat_minor": 0,
  "metadata": {
    "colab": {
      "private_outputs": true,
      "provenance": [],
      "authorship_tag": "ABX9TyPUVrAZXnikuH/VNv+CH8Rz",
      "include_colab_link": true
    },
    "kernelspec": {
      "name": "python3",
      "display_name": "Python 3"
    },
    "language_info": {
      "name": "python"
    }
  },
  "cells": [
    {
      "cell_type": "markdown",
      "metadata": {
        "id": "view-in-github",
        "colab_type": "text"
      },
      "source": [
        "<a href=\"https://colab.research.google.com/github/vikasyankanchi/0000/blob/main/Untitled2.ipynb\" target=\"_parent\"><img src=\"https://colab.research.google.com/assets/colab-badge.svg\" alt=\"Open In Colab\"/></a>"
      ]
    },
    {
      "cell_type": "code",
      "execution_count": null,
      "metadata": {
        "id": "imGzMqALL6pQ"
      },
      "outputs": [],
      "source": [
        "import pandas as pd\n",
        "import matplotlib.pyplot as plt\n",
        "file_name='iris.csv'\n",
        "df=pd.read_csv('/content/iris.csv')\n",
        "df.columns=['sepal_length','sepal_width','petal_length','petal_width','class']\n",
        "print(df.columns)\n",
        "\n",
        "species_count = df['class'].value_counts()\n",
        "\n",
        "plt.bar(species_count.index, species_count.values)\n",
        "plt.xlabel('Species')\n",
        "plt.ylabel('Frequency')\n",
        "plt.title('Frequency of Iris Species')\n",
        "plt.show()"
      ]
    },
    {
      "cell_type": "code",
      "source": [
        "plt.bar(species_count.index, species_count.values)\n",
        "plt.xlabel('sepal')\n",
        "plt.ylabel('Frequency')\n",
        "plt.title('bargraph of Sepal Width')\n",
        "plt.grid(True)\n",
        "plt.show()"
      ],
      "metadata": {
        "id": "sFharI_uOW8j"
      },
      "execution_count": null,
      "outputs": []
    },
    {
      "cell_type": "code",
      "source": [],
      "metadata": {
        "id": "8foizBK5N_Rj"
      },
      "execution_count": null,
      "outputs": []
    }
  ]
}