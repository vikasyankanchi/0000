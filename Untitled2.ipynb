{
  "nbformat": 4,
  "nbformat_minor": 0,
  "metadata": {
    "colab": {
      "private_outputs": true,
      "provenance": [],
      "authorship_tag": "ABX9TyNZnZvaMkcF/Patb2l73jO5",
      "include_colab_link": true
    },
    "kernelspec": {
      "name": "python3",
      "display_name": "Python 3"
    },
    "language_info": {
      "name": "python"
    }
  },
  "cells": [
    {
      "cell_type": "markdown",
      "metadata": {
        "id": "view-in-github",
        "colab_type": "text"
      },
      "source": [
        "<a href=\"https://colab.research.google.com/github/vikasyankanchi/0000/blob/main/Untitled2.ipynb\" target=\"_parent\"><img src=\"https://colab.research.google.com/assets/colab-badge.svg\" alt=\"Open In Colab\"/></a>"
      ]
    },
    {
      "cell_type": "code",
      "execution_count": null,
      "metadata": {
        "id": "imGzMqALL6pQ"
      },
      "outputs": [],
      "source": [
        "import pandas as pd\n",
        "import matplotlib.pyplot as plt\n",
        "file_name='iris.csv'\n",
        "df=pd.read_csv('/content/iris.csv')\n",
        "df.columns=['sepal_length','sepal_width','petal_length','petal_width','class']\n",
        "print(df.columns)\n",
        "x=df['sepal_length']\n",
        "y=df['sepal_width']\n",
        "plt.scatter(x,y)\n",
        "plt.xlabel('sepal_length in cm')\n",
        "plt.ylabel('sepal_width in cm')\n",
        "plt.title('Scatter plot')\n",
        "plt.show()"
      ]
    }
  ]
}