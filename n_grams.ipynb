{
  "nbformat": 4,
  "nbformat_minor": 0,
  "metadata": {
    "colab": {
      "provenance": [],
      "authorship_tag": "ABX9TyMLz/gGaoZW+7V7DscgobtU",
      "include_colab_link": true
    },
    "kernelspec": {
      "name": "python3",
      "display_name": "Python 3"
    },
    "language_info": {
      "name": "python"
    }
  },
  "cells": [
    {
      "cell_type": "markdown",
      "metadata": {
        "id": "view-in-github",
        "colab_type": "text"
      },
      "source": [
        "<a href=\"https://colab.research.google.com/github/vikasyankanchi/0000/blob/main/n_grams.ipynb\" target=\"_parent\"><img src=\"https://colab.research.google.com/assets/colab-badge.svg\" alt=\"Open In Colab\"/></a>"
      ]
    },
    {
      "cell_type": "code",
      "execution_count": 1,
      "metadata": {
        "colab": {
          "base_uri": "https://localhost:8080/"
        },
        "id": "2kKI_S_2x2dh",
        "outputId": "a6e0ad7e-d001-4b8c-dbab-8c03d8d1704c"
      },
      "outputs": [
        {
          "output_type": "stream",
          "name": "stdout",
          "text": [
            "[(I,), (reside,), (in,), (Bengaluru,)]\n"
          ]
        }
      ],
      "source": [
        "import spacy\n",
        "from nltk import ngrams\n",
        "nlp = spacy.load(\"en_core_web_sm\")\n",
        "doc = nlp(\"I reside in Bengaluru\")\n",
        "grams = ngrams(doc,1)\n",
        "print(list(grams))"
      ]
    },
    {
      "cell_type": "code",
      "source": [
        "import spacy\n",
        "from nltk import ngrams\n",
        "nlp = spacy.load(\"en_core_web_sm\")\n",
        "doc = nlp(\"I reside in Bengaluru\")\n",
        "bigrams = ngrams(doc,2)\n",
        "print(list(bigrams))"
      ],
      "metadata": {
        "colab": {
          "base_uri": "https://localhost:8080/"
        },
        "id": "QsklQfZdyans",
        "outputId": "840a0c51-883c-4a08-f942-5a835e12f9dc"
      },
      "execution_count": 2,
      "outputs": [
        {
          "output_type": "stream",
          "name": "stdout",
          "text": [
            "[(I, reside), (reside, in), (in, Bengaluru)]\n"
          ]
        }
      ]
    },
    {
      "cell_type": "code",
      "source": [
        "import spacy\n",
        "from nltk import ngrams\n",
        "nlp = spacy.load(\"en_core_web_sm\")\n",
        "doc = nlp(\"I reside in Bengaluru\")\n",
        "trigrams = ngrams(doc,3)\n",
        "print(list(trigrams))\n"
      ],
      "metadata": {
        "colab": {
          "base_uri": "https://localhost:8080/"
        },
        "id": "bpMSoRDyyh9K",
        "outputId": "c0c5d573-c556-4084-fbd9-a575b7f65fc4"
      },
      "execution_count": 3,
      "outputs": [
        {
          "output_type": "stream",
          "name": "stdout",
          "text": [
            "[(I, reside, in), (reside, in, Bengaluru)]\n"
          ]
        }
      ]
    },
    {
      "cell_type": "code",
      "source": [
        "from sklearn.feature_extraction.text import CountVectorizer\n",
        "import pandas as pd\n",
        "sent1 = \"India is a republic country. We are proud Indians.\"\n",
        "sent2 = \"The current Prime Minister of India is Shri. Narendra Modi.\"\n",
        "count_vectorizer = CountVectorizer()\n",
        "dtm = count_vectorizer.fit_transform([sent1,sent2])\n",
        "print(pd.DataFrame(data=dtm.toarray(),\n",
        "columns=count_vectorizer.get_feature_names_out()))"
      ],
      "metadata": {
        "colab": {
          "base_uri": "https://localhost:8080/"
        },
        "id": "7nwmOxZKymaM",
        "outputId": "3df3088d-4940-48be-d83d-dae678f6caef"
      },
      "execution_count": 4,
      "outputs": [
        {
          "output_type": "stream",
          "name": "stdout",
          "text": [
            "   are  country  current  india  indians  is  minister  modi  narendra  of  \\\n",
            "0    1        1        0      1        1   1         0     0         0   0   \n",
            "1    0        0        1      1        0   1         1     1         1   1   \n",
            "\n",
            "   prime  proud  republic  shri  the  we  \n",
            "0      0      1         1     0    0   1  \n",
            "1      1      0         0     1    1   0  \n"
          ]
        }
      ]
    }
  ]
}